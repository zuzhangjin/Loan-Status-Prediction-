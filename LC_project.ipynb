{
  "nbformat": 4,
  "nbformat_minor": 0,
  "metadata": {
    "colab": {
      "name": "LC project",
      "provenance": [],
      "collapsed_sections": []
    },
    "kernelspec": {
      "name": "python3",
      "display_name": "Python 3"
    }
  },
  "cells": [
    {
      "cell_type": "code",
      "metadata": {
        "id": "iMgyq2nXt6YG"
      },
      "source": [
        "import numpy as np\r\n",
        "import pandas as pd\r\n",
        "import sklearn as sl\r\n",
        "import sklearn.preprocessing as preprocessing\r\n",
        "from sklearn.model_selection import train_test_split\r\n",
        "import seaborn as sns\r\n",
        "import matplotlib.pyplot as plt\r\n",
        "from matplotlib import pyplot\r\n",
        "from tabulate import tabulate\r\n",
        "from sklearn.ensemble import RandomForestRegressor\r\n",
        "\r\n",
        "\r\n",
        "pd.set_option('max_colwidth',100)\r\n",
        "pd.set_option('display.max_columns',None)\r\n",
        "pd.set_option('display.max_rows',None)"
      ],
      "execution_count": 66,
      "outputs": []
    },
    {
      "cell_type": "code",
      "metadata": {
        "colab": {
          "resources": {
            "http://localhost:8080/nbextensions/google.colab/files.js": {
              "data": "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",
              "ok": true,
              "headers": [
                [
                  "content-type",
                  "application/javascript"
                ]
              ],
              "status": 200,
              "status_text": ""
            }
          },
          "base_uri": "https://localhost:8080/",
          "height": 73
        },
        "id": "QXWHuDBxuAW5",
        "outputId": "2fac41e0-8a7b-43ad-e37b-a10f595296b5"
      },
      "source": [
        "from google.colab import files\r\n",
        "uploaded = files.upload()"
      ],
      "execution_count": 67,
      "outputs": [
        {
          "output_type": "display_data",
          "data": {
            "text/html": [
              "\n",
              "     <input type=\"file\" id=\"files-3baafe53-670c-40b2-ba2f-39f323d43104\" name=\"files[]\" multiple disabled\n",
              "        style=\"border:none\" />\n",
              "     <output id=\"result-3baafe53-670c-40b2-ba2f-39f323d43104\">\n",
              "      Upload widget is only available when the cell has been executed in the\n",
              "      current browser session. Please rerun this cell to enable.\n",
              "      </output>\n",
              "      <script src=\"/nbextensions/google.colab/files.js\"></script> "
            ],
            "text/plain": [
              "<IPython.core.display.HTML object>"
            ]
          },
          "metadata": {
            "tags": []
          }
        },
        {
          "output_type": "stream",
          "text": [
            "Saving loan-clean-version.csv to loan-clean-version (3).csv\n"
          ],
          "name": "stdout"
        }
      ]
    },
    {
      "cell_type": "code",
      "metadata": {
        "id": "wej8tTw_uIuD"
      },
      "source": [
        "lc = pd.read_csv('loan-clean-version.csv', sep = \",\", header = 0)"
      ],
      "execution_count": 68,
      "outputs": []
    },
    {
      "cell_type": "code",
      "metadata": {
        "id": "5OnwHR9FvBBH"
      },
      "source": [
        "lc.head()"
      ],
      "execution_count": null,
      "outputs": []
    },
    {
      "cell_type": "code",
      "metadata": {
        "id": "S-YNct1_u621"
      },
      "source": [
        "lc.info()"
      ],
      "execution_count": null,
      "outputs": []
    },
    {
      "cell_type": "code",
      "metadata": {
        "id": "MqScX3Jv0IW6"
      },
      "source": [
        "lc.isnull().sum()"
      ],
      "execution_count": null,
      "outputs": []
    },
    {
      "cell_type": "code",
      "metadata": {
        "id": "EOTHXraB0IOK"
      },
      "source": [
        "if lc.duplicated().sum() == 0:\r\n",
        "  print(\"No duplicated observation\")"
      ],
      "execution_count": null,
      "outputs": []
    },
    {
      "cell_type": "code",
      "metadata": {
        "id": "OTOIYawc2la0"
      },
      "source": [
        "lc.nunique()"
      ],
      "execution_count": null,
      "outputs": []
    },
    {
      "cell_type": "markdown",
      "metadata": {
        "id": "-d1gc3tf3PXZ"
      },
      "source": [
        "# **EDA**"
      ]
    },
    {
      "cell_type": "code",
      "metadata": {
        "id": "WnDRree4vjKw"
      },
      "source": [
        "lc.loan_status.replace(to_replace=['Fully Paid','Charged Off'], value=[1,0], inplace = True)"
      ],
      "execution_count": 69,
      "outputs": []
    },
    {
      "cell_type": "code",
      "metadata": {
        "colab": {
          "base_uri": "https://localhost:8080/",
          "height": 363
        },
        "id": "T0U2aU7B3W6n",
        "outputId": "44a67931-f17d-4571-ba65-c697205970ae"
      },
      "source": [
        "corr = lc[['id','loan_amnt', 'funded_amnt', 'funded_amnt_inv', \r\n",
        "           'int_rate', 'installment','annual_inc', 'dti', 'earliest_cr_line', \r\n",
        "           'inq_last_6mths', 'open_acc', 'pub_rec', 'revol_bal', 'revol_util',\r\n",
        "           'total_acc', 'total_rec_prncp', 'total_rec_int'\r\n",
        "           ]].corr()\r\n",
        "\r\n",
        "sns.heatmap(corr, cmap=\"YlGnBu\")"
      ],
      "execution_count": 99,
      "outputs": [
        {
          "output_type": "execute_result",
          "data": {
            "text/plain": [
              "<matplotlib.axes._subplots.AxesSubplot at 0x7f5a91aed390>"
            ]
          },
          "metadata": {
            "tags": []
          },
          "execution_count": 99
        },
        {
          "output_type": "display_data",
          "data": {
            "image/png": "[encoded data removed]",
            "text/plain": [
              "<Figure size 432x288 with 2 Axes>"
            ]
          },
          "metadata": {
            "tags": [],
            "needs_background": "light"
          }
        }
      ]
    },
    {
      "cell_type": "code",
      "metadata": {
        "id": "ym_UDVqd7VhN",
        "colab": {
          "base_uri": "https://localhost:8080/",
          "height": 570
        },
        "outputId": "ec0e4198-7662-49c6-d3ac-b68f11c21700"
      },
      "source": [
        "corr"
      ],
      "execution_count": 100,
      "outputs": [
        {
          "output_type": "execute_result",
          "data": {
            "text/html": [
              "<div>\n",
              "<style scoped>\n",
              "    .dataframe tbody tr th:only-of-type {\n",
              "        vertical-align: middle;\n",
              "    }\n",
              "\n",
              "    .dataframe tbody tr th {\n",
              "        vertical-align: top;\n",
              "    }\n",
              "\n",
              "    .dataframe thead th {\n",
              "        text-align: right;\n",
              "    }\n",
              "</style>\n",
              "<table border=\"1\" class=\"dataframe\">\n",
              "  <thead>\n",
              "    <tr style=\"text-align: right;\">\n",
              "      <th></th>\n",
              "      <th>id</th>\n",
              "      <th>loan_amnt</th>\n",
              "      <th>funded_amnt</th>\n",
              "      <th>funded_amnt_inv</th>\n",
              "      <th>int_rate</th>\n",
              "      <th>installment</th>\n",
              "      <th>annual_inc</th>\n",
              "      <th>dti</th>\n",
              "      <th>earliest_cr_line</th>\n",
              "      <th>inq_last_6mths</th>\n",
              "      <th>open_acc</th>\n",
              "      <th>pub_rec</th>\n",
              "      <th>revol_bal</th>\n",
              "      <th>revol_util</th>\n",
              "      <th>total_acc</th>\n",
              "      <th>total_rec_prncp</th>\n",
              "      <th>total_rec_int</th>\n",
              "    </tr>\n",
              "  </thead>\n",
              "  <tbody>\n",
              "    <tr>\n",
              "      <th>id</th>\n",
              "      <td>1.000000</td>\n",
              "      <td>0.004178</td>\n",
              "      <td>0.011103</td>\n",
              "      <td>0.017539</td>\n",
              "      <td>0.086868</td>\n",
              "      <td>0.033664</td>\n",
              "      <td>-0.062071</td>\n",
              "      <td>0.044517</td>\n",
              "      <td>0.067164</td>\n",
              "      <td>0.003698</td>\n",
              "      <td>-0.006402</td>\n",
              "      <td>-0.055415</td>\n",
              "      <td>0.011139</td>\n",
              "      <td>0.162849</td>\n",
              "      <td>-0.047536</td>\n",
              "      <td>-0.011804</td>\n",
              "      <td>0.016361</td>\n",
              "    </tr>\n",
              "    <tr>\n",
              "      <th>loan_amnt</th>\n",
              "      <td>0.004178</td>\n",
              "      <td>1.000000</td>\n",
              "      <td>0.991077</td>\n",
              "      <td>0.988562</td>\n",
              "      <td>0.308443</td>\n",
              "      <td>0.945227</td>\n",
              "      <td>0.374833</td>\n",
              "      <td>0.026780</td>\n",
              "      <td>-0.208462</td>\n",
              "      <td>0.031099</td>\n",
              "      <td>0.165942</td>\n",
              "      <td>-0.057050</td>\n",
              "      <td>0.329235</td>\n",
              "      <td>0.020233</td>\n",
              "      <td>0.266225</td>\n",
              "      <td>0.821542</td>\n",
              "      <td>0.729605</td>\n",
              "    </tr>\n",
              "    <tr>\n",
              "      <th>funded_amnt</th>\n",
              "      <td>0.011103</td>\n",
              "      <td>0.991077</td>\n",
              "      <td>1.000000</td>\n",
              "      <td>0.997680</td>\n",
              "      <td>0.303362</td>\n",
              "      <td>0.959753</td>\n",
              "      <td>0.373535</td>\n",
              "      <td>0.025584</td>\n",
              "      <td>-0.204689</td>\n",
              "      <td>0.034388</td>\n",
              "      <td>0.166063</td>\n",
              "      <td>-0.058249</td>\n",
              "      <td>0.327480</td>\n",
              "      <td>0.021073</td>\n",
              "      <td>0.263555</td>\n",
              "      <td>0.831536</td>\n",
              "      <td>0.733411</td>\n",
              "    </tr>\n",
              "    <tr>\n",
              "      <th>funded_amnt_inv</th>\n",
              "      <td>0.017539</td>\n",
              "      <td>0.988562</td>\n",
              "      <td>0.997680</td>\n",
              "      <td>1.000000</td>\n",
              "      <td>0.302945</td>\n",
              "      <td>0.959195</td>\n",
              "      <td>0.371554</td>\n",
              "      <td>0.025192</td>\n",
              "      <td>-0.204024</td>\n",
              "      <td>0.036248</td>\n",
              "      <td>0.165525</td>\n",
              "      <td>-0.057969</td>\n",
              "      <td>0.325388</td>\n",
              "      <td>0.022395</td>\n",
              "      <td>0.261671</td>\n",
              "      <td>0.829373</td>\n",
              "      <td>0.734486</td>\n",
              "    </tr>\n",
              "    <tr>\n",
              "      <th>int_rate</th>\n",
              "      <td>0.086868</td>\n",
              "      <td>0.308443</td>\n",
              "      <td>0.303362</td>\n",
              "      <td>0.302945</td>\n",
              "      <td>1.000000</td>\n",
              "      <td>0.267857</td>\n",
              "      <td>0.076103</td>\n",
              "      <td>0.091614</td>\n",
              "      <td>0.106189</td>\n",
              "      <td>0.199540</td>\n",
              "      <td>0.038537</td>\n",
              "      <td>0.098385</td>\n",
              "      <td>0.102212</td>\n",
              "      <td>0.470893</td>\n",
              "      <td>-0.014897</td>\n",
              "      <td>0.124425</td>\n",
              "      <td>0.531955</td>\n",
              "    </tr>\n",
              "    <tr>\n",
              "      <th>installment</th>\n",
              "      <td>0.033664</td>\n",
              "      <td>0.945227</td>\n",
              "      <td>0.959753</td>\n",
              "      <td>0.959195</td>\n",
              "      <td>0.267857</td>\n",
              "      <td>1.000000</td>\n",
              "      <td>0.385192</td>\n",
              "      <td>0.017451</td>\n",
              "      <td>-0.181788</td>\n",
              "      <td>0.030727</td>\n",
              "      <td>0.163820</td>\n",
              "      <td>-0.052710</td>\n",
              "      <td>0.325749</td>\n",
              "      <td>0.056484</td>\n",
              "      <td>0.243247</td>\n",
              "      <td>0.827792</td>\n",
              "      <td>0.660184</td>\n",
              "    </tr>\n",
              "    <tr>\n",
              "      <th>annual_inc</th>\n",
              "      <td>-0.062071</td>\n",
              "      <td>0.374833</td>\n",
              "      <td>0.373535</td>\n",
              "      <td>0.371554</td>\n",
              "      <td>0.076103</td>\n",
              "      <td>0.385192</td>\n",
              "      <td>1.000000</td>\n",
              "      <td>-0.176920</td>\n",
              "      <td>-0.245650</td>\n",
              "      <td>0.048186</td>\n",
              "      <td>0.202596</td>\n",
              "      <td>-0.025920</td>\n",
              "      <td>0.369286</td>\n",
              "      <td>-0.005319</td>\n",
              "      <td>0.319062</td>\n",
              "      <td>0.365577</td>\n",
              "      <td>0.253143</td>\n",
              "    </tr>\n",
              "    <tr>\n",
              "      <th>dti</th>\n",
              "      <td>0.044517</td>\n",
              "      <td>0.026780</td>\n",
              "      <td>0.025584</td>\n",
              "      <td>0.025192</td>\n",
              "      <td>0.091614</td>\n",
              "      <td>0.017451</td>\n",
              "      <td>-0.176920</td>\n",
              "      <td>1.000000</td>\n",
              "      <td>-0.046850</td>\n",
              "      <td>0.025207</td>\n",
              "      <td>0.285946</td>\n",
              "      <td>-0.016486</td>\n",
              "      <td>0.213272</td>\n",
              "      <td>0.243479</td>\n",
              "      <td>0.224204</td>\n",
              "      <td>-0.004552</td>\n",
              "      <td>0.077365</td>\n",
              "    </tr>\n",
              "    <tr>\n",
              "      <th>earliest_cr_line</th>\n",
              "      <td>0.067164</td>\n",
              "      <td>-0.208462</td>\n",
              "      <td>-0.204689</td>\n",
              "      <td>-0.204024</td>\n",
              "      <td>0.106189</td>\n",
              "      <td>-0.181788</td>\n",
              "      <td>-0.245650</td>\n",
              "      <td>-0.046850</td>\n",
              "      <td>1.000000</td>\n",
              "      <td>-0.010438</td>\n",
              "      <td>-0.200414</td>\n",
              "      <td>-0.046757</td>\n",
              "      <td>-0.278942</td>\n",
              "      <td>0.053807</td>\n",
              "      <td>-0.400211</td>\n",
              "      <td>-0.190829</td>\n",
              "      <td>-0.120073</td>\n",
              "    </tr>\n",
              "    <tr>\n",
              "      <th>inq_last_6mths</th>\n",
              "      <td>0.003698</td>\n",
              "      <td>0.031099</td>\n",
              "      <td>0.034388</td>\n",
              "      <td>0.036248</td>\n",
              "      <td>0.199540</td>\n",
              "      <td>0.030727</td>\n",
              "      <td>0.048186</td>\n",
              "      <td>0.025207</td>\n",
              "      <td>-0.010438</td>\n",
              "      <td>1.000000</td>\n",
              "      <td>0.107466</td>\n",
              "      <td>0.033540</td>\n",
              "      <td>-0.027261</td>\n",
              "      <td>-0.058507</td>\n",
              "      <td>0.125891</td>\n",
              "      <td>-0.006609</td>\n",
              "      <td>0.054989</td>\n",
              "    </tr>\n",
              "    <tr>\n",
              "      <th>open_acc</th>\n",
              "      <td>-0.006402</td>\n",
              "      <td>0.165942</td>\n",
              "      <td>0.166063</td>\n",
              "      <td>0.165525</td>\n",
              "      <td>0.038537</td>\n",
              "      <td>0.163820</td>\n",
              "      <td>0.202596</td>\n",
              "      <td>0.285946</td>\n",
              "      <td>-0.200414</td>\n",
              "      <td>0.107466</td>\n",
              "      <td>1.000000</td>\n",
              "      <td>0.001023</td>\n",
              "      <td>0.276636</td>\n",
              "      <td>-0.103371</td>\n",
              "      <td>0.674145</td>\n",
              "      <td>0.151215</td>\n",
              "      <td>0.126616</td>\n",
              "    </tr>\n",
              "    <tr>\n",
              "      <th>pub_rec</th>\n",
              "      <td>-0.055415</td>\n",
              "      <td>-0.057050</td>\n",
              "      <td>-0.058249</td>\n",
              "      <td>-0.057969</td>\n",
              "      <td>0.098385</td>\n",
              "      <td>-0.052710</td>\n",
              "      <td>-0.025920</td>\n",
              "      <td>-0.016486</td>\n",
              "      <td>-0.046757</td>\n",
              "      <td>0.033540</td>\n",
              "      <td>0.001023</td>\n",
              "      <td>1.000000</td>\n",
              "      <td>-0.076946</td>\n",
              "      <td>0.028897</td>\n",
              "      <td>-0.029353</td>\n",
              "      <td>-0.068593</td>\n",
              "      <td>-0.010347</td>\n",
              "    </tr>\n",
              "    <tr>\n",
              "      <th>revol_bal</th>\n",
              "      <td>0.011139</td>\n",
              "      <td>0.329235</td>\n",
              "      <td>0.327480</td>\n",
              "      <td>0.325388</td>\n",
              "      <td>0.102212</td>\n",
              "      <td>0.325749</td>\n",
              "      <td>0.369286</td>\n",
              "      <td>0.213272</td>\n",
              "      <td>-0.278942</td>\n",
              "      <td>-0.027261</td>\n",
              "      <td>0.276636</td>\n",
              "      <td>-0.076946</td>\n",
              "      <td>1.000000</td>\n",
              "      <td>0.265708</td>\n",
              "      <td>0.305919</td>\n",
              "      <td>0.296487</td>\n",
              "      <td>0.257922</td>\n",
              "    </tr>\n",
              "    <tr>\n",
              "      <th>revol_util</th>\n",
              "      <td>0.162849</td>\n",
              "      <td>0.020233</td>\n",
              "      <td>0.021073</td>\n",
              "      <td>0.022395</td>\n",
              "      <td>0.470893</td>\n",
              "      <td>0.056484</td>\n",
              "      <td>-0.005319</td>\n",
              "      <td>0.243479</td>\n",
              "      <td>0.053807</td>\n",
              "      <td>-0.058507</td>\n",
              "      <td>-0.103371</td>\n",
              "      <td>0.028897</td>\n",
              "      <td>0.265708</td>\n",
              "      <td>1.000000</td>\n",
              "      <td>-0.098710</td>\n",
              "      <td>-0.036570</td>\n",
              "      <td>0.171383</td>\n",
              "    </tr>\n",
              "    <tr>\n",
              "      <th>total_acc</th>\n",
              "      <td>-0.047536</td>\n",
              "      <td>0.266225</td>\n",
              "      <td>0.263555</td>\n",
              "      <td>0.261671</td>\n",
              "      <td>-0.014897</td>\n",
              "      <td>0.243247</td>\n",
              "      <td>0.319062</td>\n",
              "      <td>0.224204</td>\n",
              "      <td>-0.400211</td>\n",
              "      <td>0.125891</td>\n",
              "      <td>0.674145</td>\n",
              "      <td>-0.029353</td>\n",
              "      <td>0.305919</td>\n",
              "      <td>-0.098710</td>\n",
              "      <td>1.000000</td>\n",
              "      <td>0.239694</td>\n",
              "      <td>0.164245</td>\n",
              "    </tr>\n",
              "    <tr>\n",
              "      <th>total_rec_prncp</th>\n",
              "      <td>-0.011804</td>\n",
              "      <td>0.821542</td>\n",
              "      <td>0.831536</td>\n",
              "      <td>0.829373</td>\n",
              "      <td>0.124425</td>\n",
              "      <td>0.827792</td>\n",
              "      <td>0.365577</td>\n",
              "      <td>-0.004552</td>\n",
              "      <td>-0.190829</td>\n",
              "      <td>-0.006609</td>\n",
              "      <td>0.151215</td>\n",
              "      <td>-0.068593</td>\n",
              "      <td>0.296487</td>\n",
              "      <td>-0.036570</td>\n",
              "      <td>0.239694</td>\n",
              "      <td>1.000000</td>\n",
              "      <td>0.634057</td>\n",
              "    </tr>\n",
              "    <tr>\n",
              "      <th>total_rec_int</th>\n",
              "      <td>0.016361</td>\n",
              "      <td>0.729605</td>\n",
              "      <td>0.733411</td>\n",
              "      <td>0.734486</td>\n",
              "      <td>0.531955</td>\n",
              "      <td>0.660184</td>\n",
              "      <td>0.253143</td>\n",
              "      <td>0.077365</td>\n",
              "      <td>-0.120073</td>\n",
              "      <td>0.054989</td>\n",
              "      <td>0.126616</td>\n",
              "      <td>-0.010347</td>\n",
              "      <td>0.257922</td>\n",
              "      <td>0.171383</td>\n",
              "      <td>0.164245</td>\n",
              "      <td>0.634057</td>\n",
              "      <td>1.000000</td>\n",
              "    </tr>\n",
              "  </tbody>\n",
              "</table>\n",
              "</div>"
            ],
            "text/plain": [
              "                        id  loan_amnt  funded_amnt  funded_amnt_inv  int_rate  \\\n",
              "id                1.000000   0.004178     0.011103         0.017539  0.086868   \n",
              "loan_amnt         0.004178   1.000000     0.991077         0.988562  0.308443   \n",
              "funded_amnt       0.011103   0.991077     1.000000         0.997680  0.303362   \n",
              "funded_amnt_inv   0.017539   0.988562     0.997680         1.000000  0.302945   \n",
              "int_rate          0.086868   0.308443     0.303362         0.302945  1.000000   \n",
              "installment       0.033664   0.945227     0.959753         0.959195  0.267857   \n",
              "annual_inc       -0.062071   0.374833     0.373535         0.371554  0.076103   \n",
              "dti               0.044517   0.026780     0.025584         0.025192  0.091614   \n",
              "earliest_cr_line  0.067164  -0.208462    -0.204689        -0.204024  0.106189   \n",
              "inq_last_6mths    0.003698   0.031099     0.034388         0.036248  0.199540   \n",
              "open_acc         -0.006402   0.165942     0.166063         0.165525  0.038537   \n",
              "pub_rec          -0.055415  -0.057050    -0.058249        -0.057969  0.098385   \n",
              "revol_bal         0.011139   0.329235     0.327480         0.325388  0.102212   \n",
              "revol_util        0.162849   0.020233     0.021073         0.022395  0.470893   \n",
              "total_acc        -0.047536   0.266225     0.263555         0.261671 -0.014897   \n",
              "total_rec_prncp  -0.011804   0.821542     0.831536         0.829373  0.124425   \n",
              "total_rec_int     0.016361   0.729605     0.733411         0.734486  0.531955   \n",
              "\n",
              "                  installment  annual_inc       dti  earliest_cr_line  \\\n",
              "id                   0.033664   -0.062071  0.044517          0.067164   \n",
              "loan_amnt            0.945227    0.374833  0.026780         -0.208462   \n",
              "funded_amnt          0.959753    0.373535  0.025584         -0.204689   \n",
              "funded_amnt_inv      0.959195    0.371554  0.025192         -0.204024   \n",
              "int_rate             0.267857    0.076103  0.091614          0.106189   \n",
              "installment          1.000000    0.385192  0.017451         -0.181788   \n",
              "annual_inc           0.385192    1.000000 -0.176920         -0.245650   \n",
              "dti                  0.017451   -0.176920  1.000000         -0.046850   \n",
              "earliest_cr_line    -0.181788   -0.245650 -0.046850          1.000000   \n",
              "inq_last_6mths       0.030727    0.048186  0.025207         -0.010438   \n",
              "open_acc             0.163820    0.202596  0.285946         -0.200414   \n",
              "pub_rec             -0.052710   -0.025920 -0.016486         -0.046757   \n",
              "revol_bal            0.325749    0.369286  0.213272         -0.278942   \n",
              "revol_util           0.056484   -0.005319  0.243479          0.053807   \n",
              "total_acc            0.243247    0.319062  0.224204         -0.400211   \n",
              "total_rec_prncp      0.827792    0.365577 -0.004552         -0.190829   \n",
              "total_rec_int        0.660184    0.253143  0.077365         -0.120073   \n",
              "\n",
              "                  inq_last_6mths  open_acc   pub_rec  revol_bal  revol_util  \\\n",
              "id                      0.003698 -0.006402 -0.055415   0.011139    0.162849   \n",
              "loan_amnt               0.031099  0.165942 -0.057050   0.329235    0.020233   \n",
              "funded_amnt             0.034388  0.166063 -0.058249   0.327480    0.021073   \n",
              "funded_amnt_inv         0.036248  0.165525 -0.057969   0.325388    0.022395   \n",
              "int_rate                0.199540  0.038537  0.098385   0.102212    0.470893   \n",
              "installment             0.030727  0.163820 -0.052710   0.325749    0.056484   \n",
              "annual_inc              0.048186  0.202596 -0.025920   0.369286   -0.005319   \n",
              "dti                     0.025207  0.285946 -0.016486   0.213272    0.243479   \n",
              "earliest_cr_line       -0.010438 -0.200414 -0.046757  -0.278942    0.053807   \n",
              "inq_last_6mths          1.000000  0.107466  0.033540  -0.027261   -0.058507   \n",
              "open_acc                0.107466  1.000000  0.001023   0.276636   -0.103371   \n",
              "pub_rec                 0.033540  0.001023  1.000000  -0.076946    0.028897   \n",
              "revol_bal              -0.027261  0.276636 -0.076946   1.000000    0.265708   \n",
              "revol_util             -0.058507 -0.103371  0.028897   0.265708    1.000000   \n",
              "total_acc               0.125891  0.674145 -0.029353   0.305919   -0.098710   \n",
              "total_rec_prncp        -0.006609  0.151215 -0.068593   0.296487   -0.036570   \n",
              "total_rec_int           0.054989  0.126616 -0.010347   0.257922    0.171383   \n",
              "\n",
              "                  total_acc  total_rec_prncp  total_rec_int  \n",
              "id                -0.047536        -0.011804       0.016361  \n",
              "loan_amnt          0.266225         0.821542       0.729605  \n",
              "funded_amnt        0.263555         0.831536       0.733411  \n",
              "funded_amnt_inv    0.261671         0.829373       0.734486  \n",
              "int_rate          -0.014897         0.124425       0.531955  \n",
              "installment        0.243247         0.827792       0.660184  \n",
              "annual_inc         0.319062         0.365577       0.253143  \n",
              "dti                0.224204        -0.004552       0.077365  \n",
              "earliest_cr_line  -0.400211        -0.190829      -0.120073  \n",
              "inq_last_6mths     0.125891        -0.006609       0.054989  \n",
              "open_acc           0.674145         0.151215       0.126616  \n",
              "pub_rec           -0.029353        -0.068593      -0.010347  \n",
              "revol_bal          0.305919         0.296487       0.257922  \n",
              "revol_util        -0.098710        -0.036570       0.171383  \n",
              "total_acc          1.000000         0.239694       0.164245  \n",
              "total_rec_prncp    0.239694         1.000000       0.634057  \n",
              "total_rec_int      0.164245         0.634057       1.000000  "
            ]
          },
          "metadata": {
            "tags": []
          },
          "execution_count": 100
        }
      ]
    },
    {
      "cell_type": "code",
      "metadata": {
        "colab": {
          "base_uri": "https://localhost:8080/",
          "height": 282
        },
        "id": "GdFVbeT-Vub2",
        "outputId": "9f22fb0d-1a83-4fff-ea94-48aa1a265774"
      },
      "source": [
        "lc[\"purpose\"].value_counts().plot(kind='barh')"
      ],
      "execution_count": 101,
      "outputs": [
        {
          "output_type": "execute_result",
          "data": {
            "text/plain": [
              "<matplotlib.axes._subplots.AxesSubplot at 0x7f5a91aedac8>"
            ]
          },
          "metadata": {
            "tags": []
          },
          "execution_count": 101
        },
        {
          "output_type": "display_data",
          "data": {
            "image/png": "[encoded data removed]",
            "text/plain": [
              "<Figure size 432x288 with 1 Axes>"
            ]
          },
          "metadata": {
            "tags": [],
            "needs_background": "light"
          }
        }
      ]
    },
    {
      "cell_type": "code",
      "metadata": {
        "id": "UkNkOcEg7_2X",
        "colab": {
          "base_uri": "https://localhost:8080/",
          "height": 280
        },
        "outputId": "b6120fb7-0d7a-4bf4-840a-587755ea40d6"
      },
      "source": [
        "ax = sns.countplot(x=\"emp_length\", data=lc, hue = 'loan_status', order = lc['emp_length'].value_counts().index)"
      ],
      "execution_count": 102,
      "outputs": [
        {
          "output_type": "display_data",
          "data": {
            "image/png": "[encoded data removed]",
            "text/plain": [
              "<Figure size 432x288 with 1 Axes>"
            ]
          },
          "metadata": {
            "tags": [],
            "needs_background": "light"
          }
        }
      ]
    },
    {
      "cell_type": "code",
      "metadata": {
        "id": "TkPS65HrZgd3"
      },
      "source": [
        "plt.figure(figsize=(10, 7))\r\n",
        "\r\n",
        "plt.subplot(1, 2, 1)\r\n",
        "sns.countplot(x=\"grade\", data= lc, order = lc['grade'].value_counts().index)"
      ],
      "execution_count": null,
      "outputs": []
    },
    {
      "cell_type": "code",
      "metadata": {
        "id": "fOWAoa658ADY"
      },
      "source": [
        "plt.figure(figsize=(10, 7))\r\n",
        "plt.subplot(1, 2, 1)\r\n",
        "sns.countplot(x=\"grade\", data= lc, hue = 'loan_status', order = lc['grade'].value_counts().index)"
      ],
      "execution_count": null,
      "outputs": []
    },
    {
      "cell_type": "code",
      "metadata": {
        "id": "1x2ZqZOofE7h"
      },
      "source": [
        "df_location = lc.groupby(\"addr_state\",).sum().reset_index()\r\n",
        "df_location = df_location.filter([\"addr_state\", \"loan_amnt\"], axis = 1)\r\n",
        "\r\n",
        "import plotly.graph_objects as go\r\n",
        "\r\n",
        "fig = go.Figure(data=go.Choropleth(\r\n",
        "    locations=df_location['addr_state'], \r\n",
        "    z = df_location['loan_amnt'].astype(float), \r\n",
        "    locationmode = 'USA-states',\r\n",
        "    colorscale = 'Reds',\r\n",
        "    colorbar_title = \"Millions USD\"\r\n",
        "))\r\n",
        "fig.update_layout(\r\n",
        "    title_text = 'Total amount issued by State',\r\n",
        "    geo_scope='usa', \r\n",
        ")\r\n",
        "fig.show()"
      ],
      "execution_count": null,
      "outputs": []
    },
    {
      "cell_type": "markdown",
      "metadata": {
        "id": "rQ6hgc7ymxg5"
      },
      "source": [
        "# Feature Processing"
      ]
    },
    {
      "cell_type": "code",
      "metadata": {
        "id": "FipFd_qOncQC"
      },
      "source": [
        "lc1 = lc.copy()\r\n",
        "class_mapping = {label:idx for idx, label in enumerate(np.unique(lc1['term']))}\r\n",
        "lc1['term']=lc1['term'].map(class_mapping)\r\n",
        "\r\n",
        "class_mapping = {label:idx for idx, label in enumerate(np.unique(lc1['grade']))}\r\n",
        "lc1['grade']=lc1['grade'].map(class_mapping)\r\n",
        "\r\n",
        "class_mapping = {label:idx for idx, label in enumerate(np.unique(lc1['addr_state']))}\r\n",
        "lc1['addr_state']=lc1['addr_state'].map(class_mapping)"
      ],
      "execution_count": 70,
      "outputs": []
    },
    {
      "cell_type": "code",
      "metadata": {
        "id": "_bYRhlsQoEw4"
      },
      "source": [
        "lc1 = pd.get_dummies(lc1,columns = ['home_ownership'])\r\n",
        "lc1 = pd.get_dummies(lc1, columns = ['purpose'])\r\n",
        "lc1 = pd.get_dummies(lc1, columns=[\"verification_status\"])"
      ],
      "execution_count": 71,
      "outputs": []
    },
    {
      "cell_type": "code",
      "metadata": {
        "colab": {
          "base_uri": "https://localhost:8080/"
        },
        "id": "YdEXKwEhdl75",
        "outputId": "834cf494-1299-46dc-a341-d33202fec77a"
      },
      "source": [
        "lc1['emp_length'].unique()"
      ],
      "execution_count": 72,
      "outputs": [
        {
          "output_type": "execute_result",
          "data": {
            "text/plain": [
              "array(['10+ years', 'Less than 1 year', '3 years', '9 years', '4 years',\n",
              "       '5 years', '1 year', '6 years', '2 years', '7 years', '8 years',\n",
              "       nan], dtype=object)"
            ]
          },
          "metadata": {
            "tags": []
          },
          "execution_count": 72
        }
      ]
    },
    {
      "cell_type": "code",
      "metadata": {
        "id": "yVLROCPpdvm_"
      },
      "source": [
        "emp=[]\r\n",
        "\r\n",
        "for i in range(len(lc1)):\r\n",
        "  tep = lc1.loc[i, 'emp_length']\r\n",
        "  if tep == '10+ years':\r\n",
        "    emp.append(10)\r\n",
        "  elif tep == 'Less than 1 year':\r\n",
        "    emp.append(1)\r\n",
        "  elif tep == '3 years':\r\n",
        "    emp.append(3)\r\n",
        "  elif tep == '9 years':\r\n",
        "    emp.append(9)\r\n",
        "  elif tep == '4 years':\r\n",
        "    emp.append(4)\r\n",
        "  elif tep == '5 years':\r\n",
        "    emp.append(5)\r\n",
        "  elif tep == '1 year':\r\n",
        "    emp.append(1)\r\n",
        "  elif tep == '6 years':\r\n",
        "    emp.append(6)\r\n",
        "  elif tep == '2 years':\r\n",
        "    emp.append(2)\r\n",
        "  elif tep == '7 years':\r\n",
        "    emp.append(7)\r\n",
        "  elif tep == '8 years':\r\n",
        "    emp.append(8)\r\n",
        "  else:\r\n",
        "    emp.append(None)"
      ],
      "execution_count": 73,
      "outputs": []
    },
    {
      "cell_type": "code",
      "metadata": {
        "id": "qyeg9RBd6z5L"
      },
      "source": [
        "lc1['emp']= emp"
      ],
      "execution_count": 74,
      "outputs": []
    },
    {
      "cell_type": "code",
      "metadata": {
        "id": "GXAwer-olNmg"
      },
      "source": [
        "lc1 = lc1.drop(['emp_length'], axis = 1 )"
      ],
      "execution_count": 75,
      "outputs": []
    },
    {
      "cell_type": "code",
      "metadata": {
        "colab": {
          "base_uri": "https://localhost:8080/"
        },
        "id": "RvYhvpX7lSn3",
        "outputId": "be8e4554-20ac-4227-f3aa-bcf3d14efa27"
      },
      "source": [
        "lc1.isnull().sum()"
      ],
      "execution_count": 77,
      "outputs": [
        {
          "output_type": "execute_result",
          "data": {
            "text/plain": [
              "id                                       0\n",
              "loan_amnt                                0\n",
              "funded_amnt                              0\n",
              "funded_amnt_inv                          0\n",
              "term                                     0\n",
              "int_rate                                 0\n",
              "installment                              0\n",
              "grade                                    0\n",
              "annual_inc                               0\n",
              "addr_state                               0\n",
              "dti                                      0\n",
              "earliest_cr_line                         0\n",
              "inq_last_6mths                           0\n",
              "open_acc                                 0\n",
              "pub_rec                                  0\n",
              "revol_bal                                0\n",
              "revol_util                               3\n",
              "total_acc                                0\n",
              "out_prncp                                0\n",
              "out_prncp_inv                            0\n",
              "total_pymnt                              0\n",
              "total_pymnt_inv                          0\n",
              "total_rec_prncp                          0\n",
              "total_rec_int                            0\n",
              "loan_status                              0\n",
              "home_ownership_MORTGAGE                  0\n",
              "home_ownership_OWN                       0\n",
              "home_ownership_RENT                      0\n",
              "purpose_car                              0\n",
              "purpose_credit_card                      0\n",
              "purpose_debt_consolidation               0\n",
              "purpose_home_improvement                 0\n",
              "purpose_house                            0\n",
              "purpose_major_purchase                   0\n",
              "purpose_medical                          0\n",
              "purpose_moving                           0\n",
              "purpose_other                            0\n",
              "purpose_renewable_energy                 0\n",
              "purpose_small_business                   0\n",
              "purpose_vacation                         0\n",
              "purpose_wedding                          0\n",
              "verification_status_Not Verified         0\n",
              "verification_status_Source Verified      0\n",
              "verification_status_Verified             0\n",
              "emp                                    316\n",
              "dtype: int64"
            ]
          },
          "metadata": {
            "tags": []
          },
          "execution_count": 77
        }
      ]
    },
    {
      "cell_type": "markdown",
      "metadata": {
        "id": "0TUMp9N-ldUV"
      },
      "source": [
        "Missing Value Imputation"
      ]
    },
    {
      "cell_type": "code",
      "metadata": {
        "id": "1PwxFA7jlga0"
      },
      "source": [
        "lc_final=lc1.copy()\r\n",
        "lc_final['emp']=lc_final['emp'].fillna(lc1['emp'].mean())"
      ],
      "execution_count": 78,
      "outputs": []
    },
    {
      "cell_type": "code",
      "metadata": {
        "id": "wSgplKFN1WYV"
      },
      "source": [
        "#drop 3observations has missing values\r\n",
        "lc_final = lc_final.dropna()"
      ],
      "execution_count": 79,
      "outputs": []
    },
    {
      "cell_type": "markdown",
      "metadata": {
        "id": "mPB3NvPTYlQf"
      },
      "source": [
        "# **Modeling**"
      ]
    },
    {
      "cell_type": "code",
      "metadata": {
        "id": "hUxPqoTjw86S"
      },
      "source": [
        "from sklearn import model_selection\r\n",
        "y = lc_final['loan_status']\r\n",
        "X = lc_final.drop(['loan_status'], axis = 1)\r\n",
        "X_train, X_test, y_train, y_test = model_selection.train_test_split(X, y, test_size=0.25,stratify=y, random_state=1)"
      ],
      "execution_count": 84,
      "outputs": []
    },
    {
      "cell_type": "code",
      "metadata": {
        "colab": {
          "base_uri": "https://localhost:8080/"
        },
        "id": "uHK9OYsGieL_",
        "outputId": "f9febbbb-f5ab-442c-d847-716a6ec18ec5"
      },
      "source": [
        "unique, counts = np.unique(y_train, return_counts=True)\r\n",
        "print(np.asarray((unique, counts)).T)"
      ],
      "execution_count": 92,
      "outputs": [
        {
          "output_type": "stream",
          "text": [
            "[[   0 1137]\n",
            " [   1 5613]]\n"
          ],
          "name": "stdout"
        }
      ]
    },
    {
      "cell_type": "code",
      "metadata": {
        "id": "8L-CyfCUw767"
      },
      "source": [
        "from sklearn.preprocessing import StandardScaler\r\n",
        "scaler = StandardScaler()\r\n",
        "scaler.fit(X_train)\r\n",
        "X_train = scaler.transform(X_train)\r\n",
        "X_test = scaler.transform(X_test)"
      ],
      "execution_count": 85,
      "outputs": []
    },
    {
      "cell_type": "code",
      "metadata": {
        "id": "Le9yWlKQx1mp"
      },
      "source": [
        "from sklearn.ensemble import RandomForestClassifier\r\n",
        "from sklearn.neighbors import KNeighborsClassifier \r\n",
        "from sklearn.linear_model import LogisticRegression\r\n",
        "\r\n",
        "# Logistic Regression\r\n",
        "classifier_logistic = LogisticRegression()\r\n",
        "# K Nearest Neighbors\r\n",
        "classifier_KNN = KNeighborsClassifier()\r\n",
        "# Random Forest\r\n",
        "classifier_RF = RandomForestClassifier()"
      ],
      "execution_count": 86,
      "outputs": []
    },
    {
      "cell_type": "markdown",
      "metadata": {
        "id": "PKBmW2sl29UQ"
      },
      "source": [
        "Accuracy of test data\r\n"
      ]
    },
    {
      "cell_type": "code",
      "metadata": {
        "colab": {
          "base_uri": "https://localhost:8080/"
        },
        "id": "2-16ZriVyR0r",
        "outputId": "7e49e573-7de4-40f9-e82c-0a08c2d5be41"
      },
      "source": [
        "classifier_KNN.fit(X_train, y_train)\r\n",
        "classifier_KNN.predict(X_test)\r\n",
        "classifier_KNN.score(X_test, y_test)"
      ],
      "execution_count": 87,
      "outputs": [
        {
          "output_type": "execute_result",
          "data": {
            "text/plain": [
              "0.8636161705908485"
            ]
          },
          "metadata": {
            "tags": []
          },
          "execution_count": 87
        }
      ]
    },
    {
      "cell_type": "code",
      "metadata": {
        "colab": {
          "base_uri": "https://localhost:8080/"
        },
        "id": "mIHhHHAX1oJp",
        "outputId": "9edcc867-988a-4bdd-ad66-cd199b6c8e4d"
      },
      "source": [
        "classifier_logistic.fit(X_train, y_train)\r\n",
        "classifier_logistic.predict(X_test)\r\n",
        "classifier_logistic.score(X_test, y_test)"
      ],
      "execution_count": 88,
      "outputs": [
        {
          "output_type": "execute_result",
          "data": {
            "text/plain": [
              "0.9893380719680143"
            ]
          },
          "metadata": {
            "tags": []
          },
          "execution_count": 88
        }
      ]
    },
    {
      "cell_type": "code",
      "metadata": {
        "colab": {
          "base_uri": "https://localhost:8080/"
        },
        "id": "XZ6McuUVbUT-",
        "outputId": "627a9725-20e9-4717-86d6-850367e5ef43"
      },
      "source": [
        "classifier_RF.fit(X_train, y_train)\r\n",
        "classifier_RF.predict(X_test)\r\n",
        "classifier_RF.score(X_test, y_test)"
      ],
      "execution_count": 89,
      "outputs": [
        {
          "output_type": "execute_result",
          "data": {
            "text/plain": [
              "0.9795646379386939"
            ]
          },
          "metadata": {
            "tags": []
          },
          "execution_count": 89
        }
      ]
    },
    {
      "cell_type": "markdown",
      "metadata": {
        "id": "1et1vrDcio_T"
      },
      "source": [
        "By comparing accuracy score selected Neural Network as the best Model  "
      ]
    },
    {
      "cell_type": "code",
      "metadata": {
        "colab": {
          "base_uri": "https://localhost:8080/"
        },
        "id": "-I8yQ7n9hrXT",
        "outputId": "38793943-5a0c-4481-fe1c-5c08a5076ba9"
      },
      "source": [
        "from sklearn.neural_network import MLPClassifier\r\n",
        "mlp = MLPClassifier(hidden_layer_sizes=(30,30,30))\r\n",
        "clf = RandomForestRegressor(n_jobs=-1, n_estimators=1000)\r\n",
        "\r\n",
        "mlp.fit(X_train,y_train)"
      ],
      "execution_count": 90,
      "outputs": [
        {
          "output_type": "execute_result",
          "data": {
            "text/plain": [
              "MLPClassifier(activation='relu', alpha=0.0001, batch_size='auto', beta_1=0.9,\n",
              "              beta_2=0.999, early_stopping=False, epsilon=1e-08,\n",
              "              hidden_layer_sizes=(30, 30, 30), learning_rate='constant',\n",
              "              learning_rate_init=0.001, max_fun=15000, max_iter=200,\n",
              "              momentum=0.9, n_iter_no_change=10, nesterovs_momentum=True,\n",
              "              power_t=0.5, random_state=None, shuffle=True, solver='adam',\n",
              "              tol=0.0001, validation_fraction=0.1, verbose=False,\n",
              "              warm_start=False)"
            ]
          },
          "metadata": {
            "tags": []
          },
          "execution_count": 90
        }
      ]
    },
    {
      "cell_type": "code",
      "metadata": {
        "colab": {
          "base_uri": "https://localhost:8080/"
        },
        "id": "FBpG29IOh5yS",
        "outputId": "bc0f0c0b-799e-4291-85a5-28331af6b3f6"
      },
      "source": [
        "mlp.predict(X_test)\r\n",
        "mlp.score(X_test, y_test)"
      ],
      "execution_count": 91,
      "outputs": [
        {
          "output_type": "execute_result",
          "data": {
            "text/plain": [
              "0.989782318969347"
            ]
          },
          "metadata": {
            "tags": []
          },
          "execution_count": 91
        }
      ]
    },
    {
      "cell_type": "code",
      "metadata": {
        "colab": {
          "base_uri": "https://localhost:8080/"
        },
        "id": "do6cwUZ3ilwU",
        "outputId": "b1397a69-9378-4316-95c5-8c73738bb7e5"
      },
      "source": [
        "from sklearn.metrics import classification_report,confusion_matrix\r\n",
        "predictions = mlp.predict(X_test)\r\n",
        "print(confusion_matrix(y_test,predictions))"
      ],
      "execution_count": 95,
      "outputs": [
        {
          "output_type": "stream",
          "text": [
            "[[ 362   17]\n",
            " [   6 1866]]\n"
          ],
          "name": "stdout"
        }
      ]
    },
    {
      "cell_type": "code",
      "metadata": {
        "colab": {
          "base_uri": "https://localhost:8080/"
        },
        "id": "7CQSDe5ty3fv",
        "outputId": "7f71d77c-688b-472b-ac89-134e51eecce4"
      },
      "source": [
        "print(classification_report(y_test,predictions))"
      ],
      "execution_count": 96,
      "outputs": [
        {
          "output_type": "stream",
          "text": [
            "              precision    recall  f1-score   support\n",
            "\n",
            "           0       0.98      0.96      0.97       379\n",
            "           1       0.99      1.00      0.99      1872\n",
            "\n",
            "    accuracy                           0.99      2251\n",
            "   macro avg       0.99      0.98      0.98      2251\n",
            "weighted avg       0.99      0.99      0.99      2251\n",
            "\n"
          ],
          "name": "stdout"
        }
      ]
    }
  ]
}